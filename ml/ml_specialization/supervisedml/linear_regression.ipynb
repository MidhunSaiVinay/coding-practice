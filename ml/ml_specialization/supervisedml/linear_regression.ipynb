{
 "cells": [
  {
   "cell_type": "markdown",
   "metadata": {},
   "source": [
    "Linear regression is fitting a straight line through our data.\n",
    "Any linear model that predicts a value is a regression model.\n",
    "Another type of popular supervised model is the classification model.\n",
    "x is the input variable and y is the target or output variable.\n",
    "\n",
    "m is the total number of training examples.\n",
    "\n",
    "(xi, yi) is a single training example.\n",
    "\n",
    "i is the row in the data.\n",
    "\n",
    "From our data, the learning algorithm produces a hypothesis model f that predicts the value ŷ (y hat), and y is the actual value.\n",
    "\n",
    "f_w,b(x) = wx + b\n",
    "\n",
    "\n",
    "\n",
    "\n"
   ]
  }
 ],
 "metadata": {
  "language_info": {
   "name": "python"
  }
 },
 "nbformat": 4,
 "nbformat_minor": 2
}
